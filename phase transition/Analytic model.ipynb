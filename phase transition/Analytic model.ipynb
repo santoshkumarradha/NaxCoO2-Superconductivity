{
 "cells": [
  {
   "cell_type": "code",
   "execution_count": 95,
   "metadata": {},
   "outputs": [],
   "source": [
    "from sympy import *\n",
    "import numpy as np\n",
    "import matplotlib.pyplot as plt"
   ]
  },
  {
   "cell_type": "code",
   "execution_count": 69,
   "metadata": {},
   "outputs": [],
   "source": [
    "k = symbols('k',real=True)\n",
    "t1 = symbols('t_1',real=True)\n",
    "t2 = symbols('t_2',real=True)\n",
    "u = symbols('u',real=True)"
   ]
  },
  {
   "cell_type": "code",
   "execution_count": 457,
   "metadata": {},
   "outputs": [
    {
     "data": {
      "text/plain": [
       "{-sqrt(\\delta**2 + t_2**2 + u**2 - sqrt(4*\\delta**2*t_2**2*exp(2*I*k) - \\delta**2*exp(3*I*k) + 2*\\delta**2*exp(2*I*k) - \\delta**2*exp(I*k) + t_2**2*exp(3*I*k) + 2*t_2**2*exp(2*I*k) + t_2**2*exp(I*k) + 4*u**2*exp(2*I*k))*exp(-I*k) + 1): 1,\n",
       " sqrt(\\delta**2 + t_2**2 + u**2 - sqrt(4*\\delta**2*t_2**2*exp(2*I*k) - \\delta**2*exp(3*I*k) + 2*\\delta**2*exp(2*I*k) - \\delta**2*exp(I*k) + t_2**2*exp(3*I*k) + 2*t_2**2*exp(2*I*k) + t_2**2*exp(I*k) + 4*u**2*exp(2*I*k))*exp(-I*k) + 1): 1,\n",
       " -sqrt(\\delta**2 + t_2**2 + u**2 + sqrt(4*\\delta**2*t_2**2*exp(2*I*k) - \\delta**2*exp(3*I*k) + 2*\\delta**2*exp(2*I*k) - \\delta**2*exp(I*k) + t_2**2*exp(3*I*k) + 2*t_2**2*exp(2*I*k) + t_2**2*exp(I*k) + 4*u**2*exp(2*I*k))*exp(-I*k) + 1): 1,\n",
       " sqrt(\\delta**2 + t_2**2 + u**2 + sqrt(4*\\delta**2*t_2**2*exp(2*I*k) - \\delta**2*exp(3*I*k) + 2*\\delta**2*exp(2*I*k) - \\delta**2*exp(I*k) + t_2**2*exp(3*I*k) + 2*t_2**2*exp(2*I*k) + t_2**2*exp(I*k) + 4*u**2*exp(2*I*k))*exp(-I*k) + 1): 1}"
      ]
     },
     "execution_count": 457,
     "metadata": {},
     "output_type": "execute_result"
    }
   ],
   "source": [
    "t1 = symbols('t_1',real=True)\n",
    "t2 = symbols('t_2',real=True)\n",
    "u = symbols('u',real=True)\n",
    "d = symbols('\\delta',real=True)\n",
    "H=Matrix([[u,0,t1,(t2-d)*exp(I*k)]\n",
    "        ,[0,-u,t2+d,t1]\n",
    "        ,[t1,t2+d,u,0]\n",
    "        ,[(t2-d)*exp(-I*k),t1,0,-u]\n",
    "       ])\n",
    "# lam = symbols('lambda')\n",
    "# cp = det(H - lam * eye(4))\n",
    "# eigs = roots(Poly(cp, lam))\n",
    "H.subs({t1:1}).eigenvals()"
   ]
  },
  {
   "cell_type": "code",
   "execution_count": 461,
   "metadata": {},
   "outputs": [
    {
     "data": {
      "text/latex": [
       "$\\displaystyle - \\sqrt{\\delta^{2} - 2 \\delta t_{2} + t_{2}^{2} + u^{2}}$"
      ],
      "text/plain": [
       "-sqrt(\\delta**2 - 2*\\delta*t_2 + t_2**2 + u**2)"
      ]
     },
     "execution_count": 461,
     "metadata": {},
     "output_type": "execute_result"
    }
   ],
   "source": [
    "U=Matrix([[1,0,0,0],\n",
    "          [0,0,1,0],\n",
    "          [0,1,0,0],\n",
    "          [0,0,0,1]\n",
    "        ])\n",
    "list(((U*H*U.T).subs({t1:0})).eigenvals())[0].simplify()"
   ]
  },
  {
   "cell_type": "code",
   "execution_count": 421,
   "metadata": {},
   "outputs": [
    {
     "data": {
      "text/latex": [
       "$\\displaystyle - \\sqrt{t_{1}^{2} - t_{1} t_{2} \\sqrt{e^{i k}} - t_{1} t_{2} e^{- i k} \\sqrt{e^{i k}} + t_{2}^{2}}$"
      ],
      "text/plain": [
       "-sqrt(t_1**2 - t_1*t_2*sqrt(exp(I*k)) - t_1*t_2*exp(-I*k)*sqrt(exp(I*k)) + t_2**2)"
      ]
     },
     "execution_count": 421,
     "metadata": {},
     "output_type": "execute_result"
    }
   ],
   "source": [
    "simplify(list(eigs.keys())[0]).rewrite(sin).simplify()"
   ]
  },
  {
   "cell_type": "code",
   "execution_count": 115,
   "metadata": {},
   "outputs": [
    {
     "data": {
      "text/latex": [
       "$\\displaystyle - \\sqrt{2} \\sqrt{t_{1}^{2} \\cos{\\left(k \\right)} + t_{1}^{2} - u^{2} \\cos{\\left(k \\right)} + u^{2}}$"
      ],
      "text/plain": [
       "-sqrt(2)*sqrt(t_1**2*cos(k) + t_1**2 - u**2*cos(k) + u**2)"
      ]
     },
     "execution_count": 115,
     "metadata": {},
     "output_type": "execute_result"
    }
   ],
   "source": [
    "H=Matrix([[0,t1-u+(t1+u)*exp(I*k)],\n",
    "          [t1-u+(t1+u)*exp(-I*k),0]\n",
    "       ])\n",
    "lam = symbols('lambda')\n",
    "cp = det(H - lam * eye(2))\n",
    "eigs = roots(Poly(cp, lam))\n",
    "a=list(eigs.keys())[0].rewrite(sin).simplify()\n",
    "a.subs({t1:t1})\n"
   ]
  },
  {
   "cell_type": "code",
   "execution_count": 114,
   "metadata": {},
   "outputs": [
    {
     "data": {
      "text/plain": [
       "(0.0, 2.0)"
      ]
     },
     "execution_count": 114,
     "metadata": {},
     "output_type": "execute_result"
    },
    {
     "data": {
      "image/png": "[encoded data removed]",
      "text/plain": [
       "<Figure size 432x288 with 1 Axes>"
      ]
     },
     "metadata": {
      "needs_background": "light"
     },
     "output_type": "display_data"
    }
   ],
   "source": [
    "x=np.linspace(0,2*np.pi,100)\n",
    "plt.plot(np.sqrt(1-1*np.cos(x)))\n",
    "plt.ylim(0,2)"
   ]
  },
  {
   "cell_type": "markdown",
   "metadata": {},
   "source": [
    "https://math.stackexchange.com/questions/1093786/approximation-for-elliptic-integral-of-second-kind?noredirect=1"
   ]
  },
  {
   "cell_type": "markdown",
   "metadata": {},
   "source": [
    "http://functions.wolfram.com/EllipticIntegrals/EllipticE2/introductions/IncompleteEllipticIntegrals/ShowAll.html"
   ]
  },
  {
   "cell_type": "code",
   "execution_count": 468,
   "metadata": {},
   "outputs": [
    {
     "data": {
      "text/plain": [
       "(-1.0, 1.0)"
      ]
     },
     "execution_count": 468,
     "metadata": {},
     "output_type": "execute_result"
    },
    {
     "data": {
      "image/png": "[encoded data removed]",
      "text/plain": [
       "<Figure size 432x288 with 1 Axes>"
      ]
     },
     "metadata": {},
     "output_type": "display_data"
    }
   ],
   "source": [
    "V=lambda d,d0 : 1/(d-d0)\n",
    "V1= lambda d,d0: -1/(d-d0) + 1/(d+d0) -2/d0\n",
    "x=np.linspace(-.9,.9,500)\n",
    "#for i in np.linspace(0,.8,20):plt.plot(x,m(x,.1,i))\n",
    "n=3\n",
    "fig,ax=plt.subplots(facecolor=\"w\")\n",
    "ax = plt.axes()\n",
    "ax.set_prop_cycle(\"color\", [plt.cm.RdYlBu(i) for i in np.linspace(0, 1, n)])\n",
    "for c in np.linspace(-7,3,n):\n",
    "    plt.plot(x,V1(x,1)+c*x**2)\n",
    "#     plt.plot(x,V1(x,1),ls=\":\")\n",
    "#     plt.plot(x,c*x**2,ls=\"--\")\n",
    "plt.axhline(0,c=\"k\",alpha=1,ls=\"--\")\n",
    "plt.ylim(-2,3)\n",
    "plt.xlim(-1,1)"
   ]
  },
  {
   "cell_type": "code",
   "execution_count": 422,
   "metadata": {},
   "outputs": [],
   "source": [
    "a1 = symbols('a_1',real=True)\n",
    "a2 = symbols('a_2',real=True)\n",
    "t = symbols('t',real=True)\n",
    "t1 = symbols('t_1',real=True)\n",
    "u=symbols(\"\\delta\",positive=True)"
   ]
  },
  {
   "cell_type": "code",
   "execution_count": 435,
   "metadata": {},
   "outputs": [
    {
     "data": {
      "text/latex": [
       "$\\displaystyle \\left|{t}\\right| - \\delta + O\\left(\\delta^{4}\\right)$"
      ],
      "text/plain": [
       "Abs(t) - \\delta + O(\\delta**4)"
      ]
     },
     "execution_count": 435,
     "metadata": {},
     "output_type": "execute_result"
    }
   ],
   "source": [
    "T=2*(t**2 + u**2) +a1\n",
    "D=((t+u)*(t-u))**2-2*a2*cos(k)*(t+u)*(t-u)\n",
    "series(sqrt(T/2-sqrt(T**2/4 - D)).subs({a1:0,a2:0}),u,0,4).simplify()"
   ]
  },
  {
   "cell_type": "code",
   "execution_count": 437,
   "metadata": {},
   "outputs": [
    {
     "data": {
      "text/latex": [
       "$\\displaystyle \\sqrt{\\delta^{2} - 2 \\delta \\left|{t}\\right| + t^{2}}$"
      ],
      "text/plain": [
       "sqrt(\\delta**2 - 2*\\delta*Abs(t) + t**2)"
      ]
     },
     "execution_count": 437,
     "metadata": {},
     "output_type": "execute_result"
    }
   ],
   "source": [
    "sqrt(T/2-sqrt(T**2/4 - D)).subs({a1:0,a2:0}).simplify()"
   ]
  },
  {
   "cell_type": "code",
   "execution_count": null,
   "metadata": {},
   "outputs": [],
   "source": []
  }
 ],
 "metadata": {
  "kernelspec": {
   "display_name": "Python 3",
   "language": "python",
   "name": "python3"
  },
  "language_info": {
   "codemirror_mode": {
    "name": "ipython",
    "version": 3
   },
   "file_extension": ".py",
   "mimetype": "text/x-python",
   "name": "python",
   "nbconvert_exporter": "python",
   "pygments_lexer": "ipython3",
   "version": "3.7.7"
  }
 },
 "nbformat": 4,
 "nbformat_minor": 4
}
