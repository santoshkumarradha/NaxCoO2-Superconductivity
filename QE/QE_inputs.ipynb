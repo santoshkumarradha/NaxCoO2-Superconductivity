{
 "cells": [
  {
   "cell_type": "code",
   "execution_count": 2,
   "metadata": {},
   "outputs": [],
   "source": [
    "from pymatgen.core import Structure as p\n",
    "from pymatgen.io import pwscf\n",
    "from matplotlib import pyplot as plt\n",
    "from pymatgen.symmetry.analyzer  import SpacegroupAnalyzer as sym\n",
    "import numpy as np\n",
    "from pymatgen.core.units import ArrayWithUnit as conv\n",
    "\n",
    "def remove_coords(fname=\"scf.in\"):\n",
    "    with open(fname) as f1:\n",
    "        lines = f1.readlines()\n",
    "\n",
    "    with open(fname,\"w\") as f2:\n",
    "        f2.writelines(lines[:-4])"
   ]
  },
  {
   "cell_type": "code",
   "execution_count": 3,
   "metadata": {},
   "outputs": [
    {
     "name": "stderr",
     "output_type": "stream",
     "text": [
      "/Users/santy/miniconda3/lib/python3.8/site-packages/pymatgen/io/cif.py:1123: UserWarning: Issues encountered while parsing CIF: Some fractional co-ordinates rounded to ideal values to avoid issues with finite precision.\n",
      "  warnings.warn(\"Issues encountered while parsing CIF: %s\" % \"\\n\".join(self.warnings))\n"
     ]
    }
   ],
   "source": [
    "\n",
    "s=p.from_file(\"../structures/relaxed_licoo2_mono.cif\")\n",
    "pseudo={\"Li\":\"Li.pbe-s-kjpaw_psl.1.0.0.UPF\",\n",
    "        \"Co\":\"Co.pbe-n-kjpaw_psl.1.0.0.UPF\",\n",
    "        \"O\":\"O.pbe-n-kjpaw_psl.1.0.0.UPF\"}\n",
    "control={'pseudo_dir' : '/home/srr70/QE/pseudo/pslibrary.1.0.0/pbe/PSEUDOPOTENTIALS/',\n",
    "        'verbosity' :'high',\n",
    "         'prefix':'lco',\n",
    "        'calculation': 'scf',\n",
    "         'restart_mode':'from_scratch',\n",
    "         'wf_collect':True,\n",
    "        'outdir': './',\n",
    "        'tprnfor':True,\n",
    "        'tstress':True}\n",
    "system={\"ecutwfc\":120.0 ,\n",
    "        \"ecutrho\" : 480.0,\n",
    "        \"occupations\":'smearing',\n",
    "        \"smearing\":'mp',\n",
    "        \"degauss\":0.02,\n",
    "       \"assume_isolated\":'2D'}\n",
    "electrons={\"diagonalization\":'david'}\n",
    "pw=pwscf.PWInput(s,pseudo=pseudo,\n",
    "                 control=control,\n",
    "                 kpoints_grid=(8,8,1),\n",
    "                 electrons=electrons,\n",
    "                system=system)\n",
    "pw.write_file(\"scf.in\")"
   ]
  },
  {
   "cell_type": "code",
   "execution_count": 24,
   "metadata": {},
   "outputs": [],
   "source": [
    "#mpirun -np 24 /home/srr70/install/qe_6.6/q-e-qe-6.6/bin/pw.x -npool 24 -in scf.in |tee scf.out\n",
    "#mpirun -np 24 /home/srr70/install/qe_6.6/q-e-qe-6.6/bin/ph.x -npool 24 -in ph.in |tee ph.out"
   ]
  },
  {
   "cell_type": "markdown",
   "metadata": {},
   "source": [
    "# QE phonons"
   ]
  },
  {
   "cell_type": "code",
   "execution_count": 130,
   "metadata": {},
   "outputs": [
    {
     "name": "stderr",
     "output_type": "stream",
     "text": [
      "/Users/santy/miniconda3/lib/python3.8/site-packages/pymatgen/io/cif.py:1123: UserWarning: Issues encountered while parsing CIF: Some fractional co-ordinates rounded to ideal values to avoid issues with finite precision.\n",
      "  warnings.warn(\"Issues encountered while parsing CIF: %s\" % \"\\n\".join(self.warnings))\n"
     ]
    }
   ],
   "source": [
    "###---- for first scf\n",
    "prefix=\"lco\"\n",
    "s=p.from_file(\"../structures/lco_gpw_relax.cif\")\n",
    "s.replace()\n",
    "pseudo={\"Li\":\"Li.pbe-s-kjpaw_psl.1.0.0.UPF\",\n",
    "        \"Co\":\"Co.pbe-n-kjpaw_psl.1.0.0.UPF\",\n",
    "        \"O\":\"O.pbe-n-kjpaw_psl.1.0.0.UPF\"}\n",
    "control={'pseudo_dir' : '/home/srr70/QE/pseudo/pslibrary.1.0.0/pbe/PSEUDOPOTENTIALS/',\n",
    "        'verbosity' :'high',\n",
    "         'prefix':prefix,\n",
    "        'calculation': 'scf',\n",
    "         'restart_mode':'from_scratch',\n",
    "        'outdir': './',\n",
    "        }\n",
    "system={\"ecutwfc\":120.0 ,\n",
    "        \"ecutrho\" : 480.0,\n",
    "        \"occupations\":'smearing',\n",
    "        \"smearing\":'mp',\n",
    "        \"degauss\":0.02,\n",
    "        \"la2F\":True}\n",
    "electrons={\"diagonalization\":'david'}\n",
    "pw=pwscf.PWInput(s,pseudo=pseudo,\n",
    "                 control=control,\n",
    "                 kpoints_grid=(18,18,1),\n",
    "                 electrons=electrons,\n",
    "                system=system)\n",
    "pw.write_file(\"scf_fit.in\")"
   ]
  },
  {
   "cell_type": "code",
   "execution_count": 22,
   "metadata": {},
   "outputs": [],
   "source": [
    "# for second scf\n",
    "prefix=\"lco\"\n",
    "s1=p.from_file(\"../structures/lco_gpw_relax.cif\")\n",
    "s1.replace_species({\"Li\":\"Na\"})\n",
    "s=sym(s1).get_symmetrized_structure()\n",
    "pseudo={\"Na\":\"Na.pbe-spn-kjpaw_psl.1.0.0.UPF\",\n",
    "        \"Co\":\"Co.pbe-n-kjpaw_psl.1.0.0.UPF\",\n",
    "        \"O\":\"O.pbe-n-kjpaw_psl.1.0.0.UPF\"}\n",
    "control={'pseudo_dir' : '/home/srr70/QE/pseudo/pslibrary.1.0.0/pbe/PSEUDOPOTENTIALS/',\n",
    "        'verbosity' :'high',\n",
    "         'prefix':prefix,\n",
    "        'calculation': 'scf',\n",
    "         'restart_mode':'from_scratch',\n",
    "        'outdir': './',\n",
    "        'wf_collect':True,\n",
    "        }\n",
    "system={\"ecutwfc\":120.0 ,\n",
    "        \"ecutrho\" : 480.0,\n",
    "        \"occupations\":'smearing',\n",
    "        \"smearing\":'mp',\n",
    "        \"degauss\":0.02,\n",
    "        \"ibrav\":4,\n",
    "        \"celldm(1)\":conv(s1.lattice.abc,\"ang\").to(\"bohr\")[0],\n",
    "        \"celldm(3)\":conv(s1.lattice.abc,\"ang\").to(\"bohr\")[2]/conv(s1.lattice.abc,\"ang\").to(\"bohr\")[0],\n",
    "       }\n",
    "electrons={\"diagonalization\":'david'}\n",
    "pw=pwscf.PWInput(s,pseudo=pseudo,\n",
    "                 control=control,\n",
    "                 kpoints_grid=(12,12,1),\n",
    "                 electrons=electrons,\n",
    "                system=system)\n",
    "pw.write_file(\"scf.in\")\n",
    "remove_coords(fname=\"scf.in\")\n",
    "!open scf.in"
   ]
  },
  {
   "cell_type": "code",
   "execution_count": 58,
   "metadata": {},
   "outputs": [],
   "source": [
    "prefix=\"'lco'\"\n",
    "inputs=f\"\"\"&inputph\n",
    "   tr2_ph=1.0d-12,\n",
    "   prefix={prefix},\n",
    "   fildvscf='pbdv', \n",
    "   outdir='./',\n",
    "   fildyn='pb.dyn', \n",
    "   electron_phonon='interpolated', \n",
    "   el_ph_sigma=0.005, \n",
    "   el_ph_nsigma=10,\n",
    "   trans=.true., \n",
    "   ldisp=.true.,\n",
    "   nq1=4, \n",
    "   nq2=4, \n",
    "   nq3=1,\n",
    "   search_sym=.FALSE.,\n",
    "   recover=.true.,\n",
    "/\"\"\"\n",
    "with open(\"elph.in\", \"w\") as text_file:\n",
    "    print(inputs, file=text_file)"
   ]
  },
  {
   "cell_type": "code",
   "execution_count": 114,
   "metadata": {},
   "outputs": [
    {
     "name": "stdout",
     "output_type": "stream",
     "text": [
      "0.000000 0.000000 0.000000 0\n",
      "0.027778 0.027778 0.000000 0\n",
      "0.055556 0.055556 0.000000 0\n",
      "0.083333 0.083333 0.000000 0\n",
      "0.111111 0.111111 0.000000 0\n",
      "0.138889 0.138889 0.000000 0\n",
      "0.166667 0.166667 0.000000 0\n",
      "0.194444 0.194444 0.000000 0\n",
      "0.222222 0.222222 0.000000 0\n",
      "0.250000 0.250000 0.000000 0\n",
      "0.277778 0.277778 0.000000 0\n",
      "0.305556 0.305556 0.000000 0\n",
      "0.333333 0.333333 0.000000 0\n",
      "0.361111 0.277778 0.000000 0\n",
      "0.388889 0.222222 0.000000 0\n",
      "0.416667 0.166667 0.000000 0\n",
      "0.444444 0.111111 0.000000 0\n",
      "0.472222 0.055556 0.000000 0\n",
      "0.500000 0.000000 0.000000 0\n",
      "0.454545 0.000000 0.000000 0\n",
      "0.409091 0.000000 0.000000 0\n",
      "0.363636 0.000000 0.000000 0\n",
      "0.318182 0.000000 0.000000 0\n",
      "0.272727 0.000000 0.000000 0\n",
      "0.227273 0.000000 0.000000 0\n",
      "0.181818 0.000000 0.000000 0\n",
      "0.136364 0.000000 0.000000 0\n",
      "0.090909 0.000000 0.000000 0\n",
      "0.045455 0.000000 0.000000 0\n",
      "0.000000 0.000000 0.000000 0\n"
     ]
    }
   ],
   "source": [
    "from pymatgen.io.ase import AseAtomsAdaptor as a\n",
    "a1=[\"{:3f} {:3f} {:3f} 0\".format(i[0],i[1],i[2]) for i in a().get_atoms(s1).cell.bandpath(\"GKMG\").interpolate(npoints=30).kpts]\n",
    "for i in a1:print(i)"
   ]
  },
  {
   "cell_type": "code",
   "execution_count": 99,
   "metadata": {},
   "outputs": [],
   "source": [
    "fname=\"data/Al444.freq\"\n",
    "with open(fname) as f1:\n",
    "        lines = f1.readlines()\n",
    "lines=[i.split() for i in lines]"
   ]
  },
  {
   "cell_type": "code",
   "execution_count": 110,
   "metadata": {},
   "outputs": [],
   "source": [
    "data=np.array([i for i in lines[1:] if len(i)>3],dtype=float).flatten().reshape(-1,12)"
   ]
  },
  {
   "cell_type": "code",
   "execution_count": 120,
   "metadata": {},
   "outputs": [
    {
     "data": {
      "image/png": "[encoded data removed]",
      "text/plain": [
       "<Figure size 432x288 with 1 Axes>"
      ]
     },
     "metadata": {
      "needs_background": "light"
     },
     "output_type": "display_data"
    }
   ],
   "source": [
    "x=a().get_atoms(s1).cell.bandpath(\"GKMG\").interpolate(npoints=30).get_linear_kpoint_axis()[0]\n",
    "for i in data.T:\n",
    "    plt.plot(x,i,c=\"k\")"
   ]
  },
  {
   "cell_type": "code",
   "execution_count": 129,
   "metadata": {},
   "outputs": [
    {
     "data": {
      "text/plain": [
       "[['&plot', 'nbnd=', '12,', 'nks=', '30', '/'],\n",
       " ['0.000000', '0.000000', '0.000000'],\n",
       " ['-0.0000', '-0.0000', '-0.0000-2782.5595-2782.5595-3006.0480'],\n",
       " ['-1399.8905-1803.0384-1803.0384-1200.7215-1200.7215-1231.6730'],\n",
       " ['0.027778', '0.027778', '0.000000']]"
      ]
     },
     "execution_count": 129,
     "metadata": {},
     "output_type": "execute_result"
    }
   ],
   "source": [
    "fname=\"data/elph.gamma.10\"\n",
    "with open(fname) as f1:\n",
    "        lines = f1.readlines()\n",
    "lines=[i.split() for i in lines]\n",
    "lines[:5]"
   ]
  },
  {
   "cell_type": "code",
   "execution_count": 11,
   "metadata": {},
   "outputs": [
    {
     "name": "stderr",
     "output_type": "stream",
     "text": [
      "/Users/santy/miniconda3/lib/python3.8/site-packages/pymatgen/io/cif.py:1123: UserWarning: Issues encountered while parsing CIF: Some fractional co-ordinates rounded to ideal values to avoid issues with finite precision.\n",
      "  warnings.warn(\"Issues encountered while parsing CIF: %s\" % \"\\n\".join(self.warnings))\n"
     ]
    }
   ],
   "source": [
    "###---- for first scf\n",
    "prefix=\"lco\"\n",
    "s=p.from_file(\"../structures/lco_gpw_relax.cif\")"
   ]
  },
  {
   "cell_type": "code",
   "execution_count": 14,
   "metadata": {},
   "outputs": [],
   "source": []
  },
  {
   "cell_type": "code",
   "execution_count": 15,
   "metadata": {},
   "outputs": [
    {
     "data": {
      "text/plain": [
       "Structure Summary\n",
       "Lattice\n",
       "    abc : 2.8429 2.8429 15.0\n",
       " angles : 90.0 90.0 119.99999999999999\n",
       " volume : 104.9893042573283\n",
       "      A : 2.8429 0.0 1.7407741926480053e-16\n",
       "      B : -1.4214499999999994 2.462023620418781 1.7407741926480053e-16\n",
       "      C : 0.0 0.0 15.0\n",
       "PeriodicSite: Na (0.0000, 1.6413, 4.7079) [0.3333, 0.6667, 0.3139]\n",
       "PeriodicSite: Co (1.4215, 0.8206, 2.6883) [0.6667, 0.3333, 0.1792]\n",
       "PeriodicSite: O (0.0000, 1.6413, 1.7702) [0.3333, 0.6667, 0.1180]\n",
       "PeriodicSite: O (2.8429, 0.0000, 3.9430) [1.0000, 0.0000, 0.2629]"
      ]
     },
     "execution_count": 15,
     "metadata": {},
     "output_type": "execute_result"
    }
   ],
   "source": [
    "s"
   ]
  },
  {
   "cell_type": "code",
   "execution_count": null,
   "metadata": {},
   "outputs": [],
   "source": []
  }
 ],
 "metadata": {
  "kernelspec": {
   "display_name": "Python 3",
   "language": "python",
   "name": "python3"
  },
  "language_info": {
   "codemirror_mode": {
    "name": "ipython",
    "version": 3
   },
   "file_extension": ".py",
   "mimetype": "text/x-python",
   "name": "python",
   "nbconvert_exporter": "python",
   "pygments_lexer": "ipython3",
   "version": "3.8.5"
  }
 },
 "nbformat": 4,
 "nbformat_minor": 4
}
