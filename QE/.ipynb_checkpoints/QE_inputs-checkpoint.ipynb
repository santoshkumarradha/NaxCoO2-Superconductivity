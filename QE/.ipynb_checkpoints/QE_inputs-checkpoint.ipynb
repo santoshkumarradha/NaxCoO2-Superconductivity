{
 "cells": [
  {
   "cell_type": "code",
   "execution_count": 25,
   "metadata": {},
   "outputs": [],
   "source": [
    "from pymatgen.core import Structure as p\n",
    "from pymatgen.io import pwscf\n",
    "from matplotlib import pyplot as plt\n",
    "import numpy as np"
   ]
  },
  {
   "cell_type": "code",
   "execution_count": 54,
   "metadata": {},
   "outputs": [],
   "source": [
    "\n",
    "s=p.from_file(\"../structures/relaxed_licoo2_mono.cif\")\n",
    "pseudo={\"Li\":\"Li.pbe-s-kjpaw_psl.1.0.0.UPF\",\n",
    "        \"Co\":\"Co.pbe-n-kjpaw_psl.1.0.0.UPF\",\n",
    "        \"O\":\"O.pbe-n-kjpaw_psl.1.0.0.UPF\"}\n",
    "control={'pseudo_dir' : '/home/srr70/QE/pseudo/pslibrary.1.0.0/pbe/PSEUDOPOTENTIALS/',\n",
    "        'verbosity' :'high',\n",
    "         'prefix':'lco',\n",
    "        'calculation': 'scf',\n",
    "         'restart_mode':'from_scratch',\n",
    "         'wf_collect':True,\n",
    "        'outdir': './',\n",
    "        'tprnfor':True,\n",
    "        'tstress':True}\n",
    "system={\"ecutwfc\":120.0 ,\n",
    "        \"ecutrho\" : 480.0,\n",
    "        \"occupations\":'smearing',\n",
    "        \"smearing\":'mp',\n",
    "        \"degauss\":0.02,\n",
    "       \"assume_isolated\":'2D'}\n",
    "electrons={\"diagonalization\":'david'}\n",
    "pw=pwscf.PWInput(s,pseudo=pseudo,\n",
    "                 control=control,\n",
    "                 kpoints_grid=(8,8,1),\n",
    "                 electrons=electrons,\n",
    "                system=system)\n",
    "pw.write_file(\"scf.in\")"
   ]
  },
  {
   "cell_type": "code",
   "execution_count": null,
   "metadata": {},
   "outputs": [],
   "source": [
    "#mpirun -np 24 /home/srr70/install/qe_6.6/q-e-qe-6.6/bin/pw.x -npool 24 -in scf.in |tee scf.out\n",
    "#mpirun -np 24 /home/srr70/install/qe_6.6/q-e-qe-6.6/bin/ph.x -npool 24 -in ph.in |tee ph.out"
   ]
  },
  {
   "cell_type": "markdown",
   "metadata": {},
   "source": [
    "# QE phonons"
   ]
  },
  {
   "cell_type": "code",
   "execution_count": 61,
   "metadata": {},
   "outputs": [],
   "source": [
    "###---- for first scf\n",
    "prefix=\"lco\"\n",
    "s=p.from_file(\"../structures/relaxed_licoo2_mono.cif\")\n",
    "pseudo={\"Li\":\"Li.pbe-s-kjpaw_psl.1.0.0.UPF\",\n",
    "        \"Co\":\"Co.pbe-n-kjpaw_psl.1.0.0.UPF\",\n",
    "        \"O\":\"O.pbe-n-kjpaw_psl.1.0.0.UPF\"}\n",
    "control={'pseudo_dir' : '/home/srr70/QE/pseudo/pslibrary.1.0.0/pbe/PSEUDOPOTENTIALS/',\n",
    "        'verbosity' :'high',\n",
    "         'prefix':prefix,\n",
    "        'calculation': 'scf',\n",
    "         'restart_mode':'from_scratch',\n",
    "        'outdir': './',\n",
    "        }\n",
    "system={\"ecutwfc\":120.0 ,\n",
    "        \"ecutrho\" : 480.0,\n",
    "        \"occupations\":'smearing',\n",
    "        \"smearing\":'mp',\n",
    "        \"degauss\":0.02,\n",
    "        \"la2F\":True}\n",
    "electrons={\"diagonalization\":'david'}\n",
    "pw=pwscf.PWInput(s,pseudo=pseudo,\n",
    "                 control=control,\n",
    "                 kpoints_grid=(18,18,1),\n",
    "                 electrons=electrons,\n",
    "                system=system)\n",
    "pw.write_file(\"scf_fit.in\")"
   ]
  },
  {
   "cell_type": "code",
   "execution_count": 62,
   "metadata": {},
   "outputs": [],
   "source": [
    "# for second scf\n",
    "prefix=\"lco\"\n",
    "s=p.from_file(\"../structures/relaxed_licoo2_mono.cif\")\n",
    "pseudo={\"Li\":\"Li.pbe-s-kjpaw_psl.1.0.0.UPF\",\n",
    "        \"Co\":\"Co.pbe-n-kjpaw_psl.1.0.0.UPF\",\n",
    "        \"O\":\"O.pbe-n-kjpaw_psl.1.0.0.UPF\"}\n",
    "control={'pseudo_dir' : '/home/srr70/QE/pseudo/pslibrary.1.0.0/pbe/PSEUDOPOTENTIALS/',\n",
    "        'verbosity' :'high',\n",
    "         'prefix':prefix,\n",
    "        'calculation': 'scf',\n",
    "         'restart_mode':'from_scratch',\n",
    "        'outdir': './',\n",
    "        'wf_collect':True,\n",
    "        }\n",
    "system={\"ecutwfc\":120.0 ,\n",
    "        \"ecutrho\" : 480.0,\n",
    "        \"occupations\":'smearing',\n",
    "        \"smearing\":'mp',\n",
    "        \"degauss\":0.02,\n",
    "       }\n",
    "electrons={\"diagonalization\":'david'}\n",
    "pw=pwscf.PWInput(s,pseudo=pseudo,\n",
    "                 control=control,\n",
    "                 kpoints_grid=(9,9,1),\n",
    "                 electrons=electrons,\n",
    "                system=system)\n",
    "pw.write_file(\"scf.in\")"
   ]
  },
  {
   "cell_type": "code",
   "execution_count": 58,
   "metadata": {},
   "outputs": [],
   "source": [
    "prefix=\"'lco'\"\n",
    "inputs=f\"\"\"&inputph\n",
    "   tr2_ph=1.0d-12,\n",
    "   prefix={prefix},\n",
    "   fildvscf='pbdv', \n",
    "   outdir='./',\n",
    "   fildyn='pb.dyn', \n",
    "   electron_phonon='interpolated', \n",
    "   el_ph_sigma=0.005, \n",
    "   el_ph_nsigma=10,\n",
    "   trans=.true., \n",
    "   ldisp=.true.,\n",
    "   nq1=4, \n",
    "   nq2=4, \n",
    "   nq3=1,\n",
    "   search_sym=.FALSE.,\n",
    "   recover=.true.,\n",
    "/\"\"\"\n",
    "with open(\"elph.in\", \"w\") as text_file:\n",
    "    print(inputs, file=text_file)"
   ]
  },
  {
   "cell_type": "code",
   "execution_count": null,
   "metadata": {},
   "outputs": [],
   "source": []
  }
 ],
 "metadata": {
  "kernelspec": {
   "display_name": "Python 3",
   "language": "python",
   "name": "python3"
  },
  "language_info": {
   "codemirror_mode": {
    "name": "ipython",
    "version": 3
   },
   "file_extension": ".py",
   "mimetype": "text/x-python",
   "name": "python",
   "nbconvert_exporter": "python",
   "pygments_lexer": "ipython3",
   "version": "3.8.5"
  }
 },
 "nbformat": 4,
 "nbformat_minor": 4
}
